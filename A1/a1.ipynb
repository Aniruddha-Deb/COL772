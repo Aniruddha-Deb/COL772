{
 "cells": [
  {
   "cell_type": "code",
   "execution_count": 1,
   "id": "4899cb6f-d0e0-4a3d-ae3c-2add5867b46b",
   "metadata": {},
   "outputs": [
    {
     "name": "stderr",
     "output_type": "stream",
     "text": [
      "/Users/Sensei/.pyenv/versions/3.9.0/lib/python3.9/site-packages/pandas/compat/__init__.py:97: UserWarning: Could not import the lzma module. Your installed Python is incomplete. Attempting to use lzma compression will result in a RuntimeError.\n",
      "  warnings.warn(msg)\n"
     ]
    }
   ],
   "source": [
    "import pandas as pd\n",
    "import numpy as np\n",
    "import xgboost\n",
    "import matplotlib.pyplot as plt\n",
    "\n",
    "import nltk\n",
    "nltk.data.path.append(\"nltk_data\")"
   ]
  },
  {
   "cell_type": "markdown",
   "id": "4a5671c5-0def-4d82-8d34-0b3a398d8132",
   "metadata": {},
   "source": [
    "## EDA"
   ]
  },
  {
   "cell_type": "code",
   "execution_count": 2,
   "id": "d7b981ab-4abd-4925-8afb-93efdb19dfd4",
   "metadata": {},
   "outputs": [],
   "source": [
    "train = pd.read_csv(\"A1/train.csv\", header=None)\n",
    "test = pd.read_csv(\"A1/sample_input.csv\", header=None)"
   ]
  },
  {
   "cell_type": "code",
   "execution_count": 3,
   "id": "f97a0b71-15da-45f3-bee8-19fcba6d017a",
   "metadata": {},
   "outputs": [
    {
     "data": {
      "text/html": [
       "<div>\n",
       "<style scoped>\n",
       "    .dataframe tbody tr th:only-of-type {\n",
       "        vertical-align: middle;\n",
       "    }\n",
       "\n",
       "    .dataframe tbody tr th {\n",
       "        vertical-align: top;\n",
       "    }\n",
       "\n",
       "    .dataframe thead th {\n",
       "        text-align: right;\n",
       "    }\n",
       "</style>\n",
       "<table border=\"1\" class=\"dataframe\">\n",
       "  <thead>\n",
       "    <tr style=\"text-align: right;\">\n",
       "      <th></th>\n",
       "      <th>0</th>\n",
       "      <th>1</th>\n",
       "    </tr>\n",
       "  </thead>\n",
       "  <tbody>\n",
       "    <tr>\n",
       "      <th>0</th>\n",
       "      <td>Definitely runs long, wore 4.5 inch heels and ...</td>\n",
       "      <td>5</td>\n",
       "    </tr>\n",
       "    <tr>\n",
       "      <th>1</th>\n",
       "      <td>I think it's a little big/long in the torso.</td>\n",
       "      <td>5</td>\n",
       "    </tr>\n",
       "    <tr>\n",
       "      <th>2</th>\n",
       "      <td>This dress is amazing!  It has a built in like...</td>\n",
       "      <td>5</td>\n",
       "    </tr>\n",
       "    <tr>\n",
       "      <th>3</th>\n",
       "      <td>didn't even need a bra and I am a 34DD, was so...</td>\n",
       "      <td>5</td>\n",
       "    </tr>\n",
       "    <tr>\n",
       "      <th>4</th>\n",
       "      <td>I wore this to my birthday dinner and loved it...</td>\n",
       "      <td>4</td>\n",
       "    </tr>\n",
       "    <tr>\n",
       "      <th>5</th>\n",
       "      <td>It fit perfect i have (VSsizeD) boobs and i wo...</td>\n",
       "      <td>5</td>\n",
       "    </tr>\n",
       "    <tr>\n",
       "      <th>6</th>\n",
       "      <td>The material is a bit heavy, but it was fine f...</td>\n",
       "      <td>5</td>\n",
       "    </tr>\n",
       "    <tr>\n",
       "      <th>7</th>\n",
       "      <td>This gown was nice. It was a dress to glam up ...</td>\n",
       "      <td>3</td>\n",
       "    </tr>\n",
       "    <tr>\n",
       "      <th>8</th>\n",
       "      <td>It's actually a 18/20w which is why I say it r...</td>\n",
       "      <td>5</td>\n",
       "    </tr>\n",
       "    <tr>\n",
       "      <th>9</th>\n",
       "      <td>The dress is very comfortable with plenty of r...</td>\n",
       "      <td>4</td>\n",
       "    </tr>\n",
       "    <tr>\n",
       "      <th>10</th>\n",
       "      <td>This is a gorgeous dress that was PERFECT, exc...</td>\n",
       "      <td>4</td>\n",
       "    </tr>\n",
       "    <tr>\n",
       "      <th>11</th>\n",
       "      <td>The color was perfect. I thought it would be t...</td>\n",
       "      <td>4</td>\n",
       "    </tr>\n",
       "    <tr>\n",
       "      <th>12</th>\n",
       "      <td>I loved this dress! I chose to wear the smalle...</td>\n",
       "      <td>5</td>\n",
       "    </tr>\n",
       "    <tr>\n",
       "      <th>13</th>\n",
       "      <td>I wasn't sure about this jumpsuit when I first...</td>\n",
       "      <td>5</td>\n",
       "    </tr>\n",
       "    <tr>\n",
       "      <th>14</th>\n",
       "      <td>I had ordered a 4 in this dress and think that...</td>\n",
       "      <td>5</td>\n",
       "    </tr>\n",
       "    <tr>\n",
       "      <th>15</th>\n",
       "      <td>Loved this dress so much. Color was beautiful....</td>\n",
       "      <td>3</td>\n",
       "    </tr>\n",
       "    <tr>\n",
       "      <th>16</th>\n",
       "      <td>I got so many compliments on this dress. The f...</td>\n",
       "      <td>5</td>\n",
       "    </tr>\n",
       "    <tr>\n",
       "      <th>17</th>\n",
       "      <td>good navy blue color and not too shiny.  lengt...</td>\n",
       "      <td>3</td>\n",
       "    </tr>\n",
       "    <tr>\n",
       "      <th>18</th>\n",
       "      <td>Dress was easy to wear, had a nice weight to i...</td>\n",
       "      <td>4</td>\n",
       "    </tr>\n",
       "    <tr>\n",
       "      <th>19</th>\n",
       "      <td>It was very flattering makes your butt look gr...</td>\n",
       "      <td>5</td>\n",
       "    </tr>\n",
       "  </tbody>\n",
       "</table>\n",
       "</div>"
      ],
      "text/plain": [
       "                                                    0  1\n",
       "0   Definitely runs long, wore 4.5 inch heels and ...  5\n",
       "1       I think it's a little big/long in the torso.   5\n",
       "2   This dress is amazing!  It has a built in like...  5\n",
       "3   didn't even need a bra and I am a 34DD, was so...  5\n",
       "4   I wore this to my birthday dinner and loved it...  4\n",
       "5   It fit perfect i have (VSsizeD) boobs and i wo...  5\n",
       "6   The material is a bit heavy, but it was fine f...  5\n",
       "7   This gown was nice. It was a dress to glam up ...  3\n",
       "8   It's actually a 18/20w which is why I say it r...  5\n",
       "9   The dress is very comfortable with plenty of r...  4\n",
       "10  This is a gorgeous dress that was PERFECT, exc...  4\n",
       "11  The color was perfect. I thought it would be t...  4\n",
       "12  I loved this dress! I chose to wear the smalle...  5\n",
       "13  I wasn't sure about this jumpsuit when I first...  5\n",
       "14  I had ordered a 4 in this dress and think that...  5\n",
       "15  Loved this dress so much. Color was beautiful....  3\n",
       "16  I got so many compliments on this dress. The f...  5\n",
       "17  good navy blue color and not too shiny.  lengt...  3\n",
       "18  Dress was easy to wear, had a nice weight to i...  4\n",
       "19  It was very flattering makes your butt look gr...  5"
      ]
     },
     "execution_count": 3,
     "metadata": {},
     "output_type": "execute_result"
    }
   ],
   "source": [
    "train.head(20)"
   ]
  },
  {
   "cell_type": "code",
   "execution_count": 4,
   "id": "7afb46a5-71c9-48e7-b09e-de5e8a3d5659",
   "metadata": {},
   "outputs": [
    {
     "data": {
      "text/plain": [
       "(44, 0)"
      ]
     },
     "execution_count": 4,
     "metadata": {},
     "output_type": "execute_result"
    }
   ],
   "source": [
    "train[0].isna().sum(), train[1].isna().sum()"
   ]
  },
  {
   "cell_type": "code",
   "execution_count": 5,
   "id": "cdd1dd03-2c14-4970-89cc-54435457e1fe",
   "metadata": {},
   "outputs": [],
   "source": [
    "train = train.dropna()"
   ]
  },
  {
   "cell_type": "code",
   "execution_count": 6,
   "id": "201cff2f-c8dc-4b48-a059-92e365afc705",
   "metadata": {},
   "outputs": [
    {
     "data": {
      "text/plain": [
       "array([5, 4, 3, 2, 1])"
      ]
     },
     "execution_count": 6,
     "metadata": {},
     "output_type": "execute_result"
    }
   ],
   "source": [
    "train[1].unique()"
   ]
  },
  {
   "cell_type": "code",
   "execution_count": 7,
   "id": "fb8bd5e0-4219-47db-87d3-f3f94c9a6308",
   "metadata": {},
   "outputs": [
    {
     "data": {
      "text/plain": [
       "(array([  749.,     0.,  1984.,     0.,     0.,  7473.,     0., 37249.,\n",
       "            0., 87205.]),\n",
       " array([1. , 1.4, 1.8, 2.2, 2.6, 3. , 3.4, 3.8, 4.2, 4.6, 5. ]),\n",
       " <BarContainer object of 10 artists>)"
      ]
     },
     "execution_count": 7,
     "metadata": {},
     "output_type": "execute_result"
    },
    {
     "data": {
      "image/png": "[encoded data removed]",
      "text/plain": [
       "<Figure size 432x288 with 1 Axes>"
      ]
     },
     "metadata": {
      "needs_background": "light"
     },
     "output_type": "display_data"
    }
   ],
   "source": [
    "plt.hist(train[1])"
   ]
  },
  {
   "cell_type": "code",
   "execution_count": 8,
   "id": "6807ac18-334a-4ccc-8b8a-cc7ad7dd8a54",
   "metadata": {},
   "outputs": [
    {
     "data": {
      "text/plain": [
       "\"I could've worn the 6, but it was a bit tight around the bust. The 8 was a little roomy around my waist and hips, but much more comfortable. The color is beautiful! I recommend a statement necklace to add some sparkle and a bit of interest to the neckline.\""
      ]
     },
     "execution_count": 8,
     "metadata": {},
     "output_type": "execute_result"
    }
   ],
   "source": [
    "train.loc[60485][0]"
   ]
  },
  {
   "cell_type": "markdown",
   "id": "6b43cfac-e048-4cff-92bf-7e2b9ea09fca",
   "metadata": {},
   "source": [
    "I can't find this dataset anywhere. Has it been artificially super-upsampled?"
   ]
  },
  {
   "cell_type": "code",
   "execution_count": 9,
   "id": "e98477e9-55b9-4b99-968e-6cf9ea209f9b",
   "metadata": {},
   "outputs": [
    {
     "data": {
      "text/plain": [
       "0    134660\n",
       "1    134660\n",
       "dtype: int64"
      ]
     },
     "execution_count": 9,
     "metadata": {},
     "output_type": "execute_result"
    }
   ],
   "source": [
    "train.count()"
   ]
  },
  {
   "cell_type": "code",
   "execution_count": 10,
   "id": "70de5be5-59ed-4084-9b50-50670305a6f8",
   "metadata": {},
   "outputs": [
    {
     "data": {
      "text/plain": [
       "133800"
      ]
     },
     "execution_count": 10,
     "metadata": {},
     "output_type": "execute_result"
    }
   ],
   "source": [
    "len(train[0].unique())"
   ]
  },
  {
   "cell_type": "markdown",
   "id": "d41245c1-5adb-4b8b-9d3c-22f37a11e0c5",
   "metadata": {},
   "source": [
    "Okay, something seems off. Get everything which starts with the same prompt"
   ]
  },
  {
   "cell_type": "code",
   "execution_count": 11,
   "id": "11b5ee93-2484-4954-b0b3-d5014928310c",
   "metadata": {},
   "outputs": [
    {
     "data": {
      "text/plain": [
       "\"This dress is amazing!  It has a built in like corset so it holds you in in all the right places!  It also plumps you up in your chest!  The fabric is comfortable and looks just like the picture.  I wore this dress to a Mardi Gras ball and got more compliments on it than any other dress I have ever worn.  The tan lining makes the dress look sexy without being too provocative ! I usually wear an 8L but I chose the 6L as it fit a little better.  The length was perfect as I am 5'10 and wore 2' heals. I would buy this dress!\""
      ]
     },
     "execution_count": 11,
     "metadata": {},
     "output_type": "execute_result"
    }
   ],
   "source": [
    "train.loc[2][0]"
   ]
  },
  {
   "cell_type": "code",
   "execution_count": 12,
   "id": "267537c2-89a3-4798-970d-9142f423168a",
   "metadata": {},
   "outputs": [
    {
     "name": "stdout",
     "output_type": "stream",
     "text": [
      "47\n"
     ]
    },
    {
     "data": {
      "text/html": [
       "<div>\n",
       "<style scoped>\n",
       "    .dataframe tbody tr th:only-of-type {\n",
       "        vertical-align: middle;\n",
       "    }\n",
       "\n",
       "    .dataframe tbody tr th {\n",
       "        vertical-align: top;\n",
       "    }\n",
       "\n",
       "    .dataframe thead th {\n",
       "        text-align: right;\n",
       "    }\n",
       "</style>\n",
       "<table border=\"1\" class=\"dataframe\">\n",
       "  <thead>\n",
       "    <tr style=\"text-align: right;\">\n",
       "      <th></th>\n",
       "      <th>0</th>\n",
       "      <th>1</th>\n",
       "    </tr>\n",
       "  </thead>\n",
       "  <tbody>\n",
       "    <tr>\n",
       "      <th>15</th>\n",
       "      <td>Loved this dress so much. Color was beautiful....</td>\n",
       "      <td>3</td>\n",
       "    </tr>\n",
       "    <tr>\n",
       "      <th>5152</th>\n",
       "      <td>Loved this dress so much that I ended up purch...</td>\n",
       "      <td>5</td>\n",
       "    </tr>\n",
       "    <tr>\n",
       "      <th>11609</th>\n",
       "      <td>Loved this dress SO much.  While I've loved a ...</td>\n",
       "      <td>5</td>\n",
       "    </tr>\n",
       "    <tr>\n",
       "      <th>12291</th>\n",
       "      <td>Loved this dress so much. My husband wanted me...</td>\n",
       "      <td>5</td>\n",
       "    </tr>\n",
       "    <tr>\n",
       "      <th>12691</th>\n",
       "      <td>Loved this dress so much I wanted to keep it! ...</td>\n",
       "      <td>5</td>\n",
       "    </tr>\n",
       "  </tbody>\n",
       "</table>\n",
       "</div>"
      ],
      "text/plain": [
       "                                                       0  1\n",
       "15     Loved this dress so much. Color was beautiful....  3\n",
       "5152   Loved this dress so much that I ended up purch...  5\n",
       "11609  Loved this dress SO much.  While I've loved a ...  5\n",
       "12291  Loved this dress so much. My husband wanted me...  5\n",
       "12691  Loved this dress so much I wanted to keep it! ...  5"
      ]
     },
     "execution_count": 12,
     "metadata": {},
     "output_type": "execute_result"
    }
   ],
   "source": [
    "stw_1 = train.loc[train[0].str.lower().str.startswith(\"loved this dress so much\")]\n",
    "print(len(stw_1))\n",
    "stw_1.head()"
   ]
  },
  {
   "cell_type": "code",
   "execution_count": 13,
   "id": "6c00cb09-834c-466a-b63b-61031b46e164",
   "metadata": {},
   "outputs": [
    {
     "name": "stdout",
     "output_type": "stream",
     "text": [
      "272\n"
     ]
    },
    {
     "data": {
      "text/html": [
       "<div>\n",
       "<style scoped>\n",
       "    .dataframe tbody tr th:only-of-type {\n",
       "        vertical-align: middle;\n",
       "    }\n",
       "\n",
       "    .dataframe tbody tr th {\n",
       "        vertical-align: top;\n",
       "    }\n",
       "\n",
       "    .dataframe thead th {\n",
       "        text-align: right;\n",
       "    }\n",
       "</style>\n",
       "<table border=\"1\" class=\"dataframe\">\n",
       "  <thead>\n",
       "    <tr style=\"text-align: right;\">\n",
       "      <th></th>\n",
       "      <th>0</th>\n",
       "      <th>1</th>\n",
       "    </tr>\n",
       "  </thead>\n",
       "  <tbody>\n",
       "    <tr>\n",
       "      <th>2</th>\n",
       "      <td>This dress is amazing!  It has a built in like...</td>\n",
       "      <td>5</td>\n",
       "    </tr>\n",
       "    <tr>\n",
       "      <th>77</th>\n",
       "      <td>This dress is amazing! I was a bit unsure how ...</td>\n",
       "      <td>5</td>\n",
       "    </tr>\n",
       "    <tr>\n",
       "      <th>101</th>\n",
       "      <td>This dress is amazing. Runs small so I had to ...</td>\n",
       "      <td>5</td>\n",
       "    </tr>\n",
       "    <tr>\n",
       "      <th>373</th>\n",
       "      <td>This dress is amazing. Fit so well and made me...</td>\n",
       "      <td>5</td>\n",
       "    </tr>\n",
       "    <tr>\n",
       "      <th>933</th>\n",
       "      <td>This dress is amazing- it is fitted at the bus...</td>\n",
       "      <td>5</td>\n",
       "    </tr>\n",
       "  </tbody>\n",
       "</table>\n",
       "</div>"
      ],
      "text/plain": [
       "                                                     0  1\n",
       "2    This dress is amazing!  It has a built in like...  5\n",
       "77   This dress is amazing! I was a bit unsure how ...  5\n",
       "101  This dress is amazing. Runs small so I had to ...  5\n",
       "373  This dress is amazing. Fit so well and made me...  5\n",
       "933  This dress is amazing- it is fitted at the bus...  5"
      ]
     },
     "execution_count": 13,
     "metadata": {},
     "output_type": "execute_result"
    }
   ],
   "source": [
    "stw_2 = train.loc[train[0].str.lower().str.startswith(\"this dress is amazing\")]\n",
    "print(len(stw_2))\n",
    "stw_2.head()"
   ]
  },
  {
   "cell_type": "markdown",
   "id": "f369614e-bbd8-49ef-9a72-bbe39a92fe4e",
   "metadata": {},
   "source": [
    "that's a lot of matches... Hypothesis is that the dataset is auto-generated."
   ]
  },
  {
   "cell_type": "markdown",
   "id": "d6c994be-d756-4036-945c-962f5ac36eb7",
   "metadata": {},
   "source": [
    "let's look at some negative reviews and see if there's a pattern"
   ]
  },
  {
   "cell_type": "code",
   "execution_count": 14,
   "id": "90d1fc76-0194-4755-9c96-0d1d1579236d",
   "metadata": {},
   "outputs": [
    {
     "data": {
      "text/html": [
       "<div>\n",
       "<style scoped>\n",
       "    .dataframe tbody tr th:only-of-type {\n",
       "        vertical-align: middle;\n",
       "    }\n",
       "\n",
       "    .dataframe tbody tr th {\n",
       "        vertical-align: top;\n",
       "    }\n",
       "\n",
       "    .dataframe thead th {\n",
       "        text-align: right;\n",
       "    }\n",
       "</style>\n",
       "<table border=\"1\" class=\"dataframe\">\n",
       "  <thead>\n",
       "    <tr style=\"text-align: right;\">\n",
       "      <th></th>\n",
       "      <th>0</th>\n",
       "      <th>1</th>\n",
       "    </tr>\n",
       "  </thead>\n",
       "  <tbody>\n",
       "    <tr>\n",
       "      <th>292</th>\n",
       "      <td>Awkward fit for someone who has a small chest.</td>\n",
       "      <td>1</td>\n",
       "    </tr>\n",
       "    <tr>\n",
       "      <th>679</th>\n",
       "      <td>So I ordered this dress for dinner, but it was...</td>\n",
       "      <td>1</td>\n",
       "    </tr>\n",
       "    <tr>\n",
       "      <th>856</th>\n",
       "      <td>If you have supple boobs first off--Congrats!!...</td>\n",
       "      <td>1</td>\n",
       "    </tr>\n",
       "    <tr>\n",
       "      <th>867</th>\n",
       "      <td>The fabric would be great for a cool evening.</td>\n",
       "      <td>1</td>\n",
       "    </tr>\n",
       "    <tr>\n",
       "      <th>900</th>\n",
       "      <td>Even though I had an XS the romper was really ...</td>\n",
       "      <td>1</td>\n",
       "    </tr>\n",
       "    <tr>\n",
       "      <th>...</th>\n",
       "      <td>...</td>\n",
       "      <td>...</td>\n",
       "    </tr>\n",
       "    <tr>\n",
       "      <th>133815</th>\n",
       "      <td>The arms were way toooo small! I just knew I w...</td>\n",
       "      <td>1</td>\n",
       "    </tr>\n",
       "    <tr>\n",
       "      <th>133850</th>\n",
       "      <td>I ordered the XS ans Small for backup-- both w...</td>\n",
       "      <td>1</td>\n",
       "    </tr>\n",
       "    <tr>\n",
       "      <th>133874</th>\n",
       "      <td>I am 5'7'', and this dress was very long and c...</td>\n",
       "      <td>1</td>\n",
       "    </tr>\n",
       "    <tr>\n",
       "      <th>133938</th>\n",
       "      <td>There is a big piece of fabric that drapes dow...</td>\n",
       "      <td>1</td>\n",
       "    </tr>\n",
       "    <tr>\n",
       "      <th>134147</th>\n",
       "      <td>If you have large boobs do not rent this dress...</td>\n",
       "      <td>1</td>\n",
       "    </tr>\n",
       "  </tbody>\n",
       "</table>\n",
       "<p>749 rows × 2 columns</p>\n",
       "</div>"
      ],
      "text/plain": [
       "                                                        0  1\n",
       "292        Awkward fit for someone who has a small chest.  1\n",
       "679     So I ordered this dress for dinner, but it was...  1\n",
       "856     If you have supple boobs first off--Congrats!!...  1\n",
       "867       The fabric would be great for a cool evening.    1\n",
       "900     Even though I had an XS the romper was really ...  1\n",
       "...                                                   ... ..\n",
       "133815  The arms were way toooo small! I just knew I w...  1\n",
       "133850  I ordered the XS ans Small for backup-- both w...  1\n",
       "133874  I am 5'7'', and this dress was very long and c...  1\n",
       "133938  There is a big piece of fabric that drapes dow...  1\n",
       "134147  If you have large boobs do not rent this dress...  1\n",
       "\n",
       "[749 rows x 2 columns]"
      ]
     },
     "execution_count": 14,
     "metadata": {},
     "output_type": "execute_result"
    }
   ],
   "source": [
    "train.loc[(train[1] == 1) | (train[1] == 1)]"
   ]
  },
  {
   "cell_type": "code",
   "execution_count": 15,
   "id": "5081c59a-9593-4769-a75f-5ccdabfffe47",
   "metadata": {},
   "outputs": [
    {
     "data": {
      "text/html": [
       "<div>\n",
       "<style scoped>\n",
       "    .dataframe tbody tr th:only-of-type {\n",
       "        vertical-align: middle;\n",
       "    }\n",
       "\n",
       "    .dataframe tbody tr th {\n",
       "        vertical-align: top;\n",
       "    }\n",
       "\n",
       "    .dataframe thead th {\n",
       "        text-align: right;\n",
       "    }\n",
       "</style>\n",
       "<table border=\"1\" class=\"dataframe\">\n",
       "  <thead>\n",
       "    <tr style=\"text-align: right;\">\n",
       "      <th></th>\n",
       "      <th>0</th>\n",
       "      <th>1</th>\n",
       "    </tr>\n",
       "  </thead>\n",
       "  <tbody>\n",
       "    <tr>\n",
       "      <th>1461</th>\n",
       "      <td>I am 5' 2'' and tried the dress on 4 inch heel...</td>\n",
       "      <td>1</td>\n",
       "    </tr>\n",
       "    <tr>\n",
       "      <th>5941</th>\n",
       "      <td>I am 5'4 and this dress was too short for me w...</td>\n",
       "      <td>1</td>\n",
       "    </tr>\n",
       "    <tr>\n",
       "      <th>23775</th>\n",
       "      <td>I am 5'10\" and with this dress on in barefeet,...</td>\n",
       "      <td>1</td>\n",
       "    </tr>\n",
       "    <tr>\n",
       "      <th>27615</th>\n",
       "      <td>I am pretty flexible with sizes and can usuall...</td>\n",
       "      <td>1</td>\n",
       "    </tr>\n",
       "    <tr>\n",
       "      <th>27848</th>\n",
       "      <td>I am 6' tall and rented the 8 and the 10. The ...</td>\n",
       "      <td>1</td>\n",
       "    </tr>\n",
       "    <tr>\n",
       "      <th>32024</th>\n",
       "      <td>I am pretty short and got the short version of...</td>\n",
       "      <td>1</td>\n",
       "    </tr>\n",
       "    <tr>\n",
       "      <th>42762</th>\n",
       "      <td>I am not tall (5-6) but this jacket was Very s...</td>\n",
       "      <td>1</td>\n",
       "    </tr>\n",
       "    <tr>\n",
       "      <th>42775</th>\n",
       "      <td>I am 5'6 and the large was way too short to we...</td>\n",
       "      <td>1</td>\n",
       "    </tr>\n",
       "    <tr>\n",
       "      <th>43682</th>\n",
       "      <td>I am a 34C and per previous reviewers, sized u...</td>\n",
       "      <td>1</td>\n",
       "    </tr>\n",
       "    <tr>\n",
       "      <th>45391</th>\n",
       "      <td>I am a size 8 in almost everything. The size 1...</td>\n",
       "      <td>1</td>\n",
       "    </tr>\n",
       "    <tr>\n",
       "      <th>47452</th>\n",
       "      <td>I am petite but with a large chest.  This bare...</td>\n",
       "      <td>1</td>\n",
       "    </tr>\n",
       "    <tr>\n",
       "      <th>50875</th>\n",
       "      <td>I am 5'2\" and hover around 130lbs, 28 pants, 3...</td>\n",
       "      <td>1</td>\n",
       "    </tr>\n",
       "    <tr>\n",
       "      <th>51378</th>\n",
       "      <td>I am a huge fan of RTR (have worn 3 dresses pr...</td>\n",
       "      <td>1</td>\n",
       "    </tr>\n",
       "    <tr>\n",
       "      <th>51539</th>\n",
       "      <td>I am a solid 14/16, so unsure of which would f...</td>\n",
       "      <td>1</td>\n",
       "    </tr>\n",
       "    <tr>\n",
       "      <th>56751</th>\n",
       "      <td>I am 5 feet/107 lbs.  I ordered both a size 0 ...</td>\n",
       "      <td>1</td>\n",
       "    </tr>\n",
       "    <tr>\n",
       "      <th>70371</th>\n",
       "      <td>I am typically a size 0 (5'6\"/123 pounds/34 D)...</td>\n",
       "      <td>1</td>\n",
       "    </tr>\n",
       "    <tr>\n",
       "      <th>72226</th>\n",
       "      <td>I am petite and ordered an 8R. I was so excite...</td>\n",
       "      <td>1</td>\n",
       "    </tr>\n",
       "    <tr>\n",
       "      <th>83035</th>\n",
       "      <td>I am 5'4\" and 120 lbs and I'm surprised at jus...</td>\n",
       "      <td>1</td>\n",
       "    </tr>\n",
       "    <tr>\n",
       "      <th>87589</th>\n",
       "      <td>I am 5'8\", the long length was perfect. I was ...</td>\n",
       "      <td>1</td>\n",
       "    </tr>\n",
       "    <tr>\n",
       "      <th>95295</th>\n",
       "      <td>I am normally a size 4-6, but I was unable to ...</td>\n",
       "      <td>1</td>\n",
       "    </tr>\n",
       "    <tr>\n",
       "      <th>95416</th>\n",
       "      <td>I am normally a size 2/4 but after reading the...</td>\n",
       "      <td>1</td>\n",
       "    </tr>\n",
       "    <tr>\n",
       "      <th>101785</th>\n",
       "      <td>I am not a prude but this really was impossibl...</td>\n",
       "      <td>1</td>\n",
       "    </tr>\n",
       "    <tr>\n",
       "      <th>103487</th>\n",
       "      <td>I am normally a size four but this dress fit v...</td>\n",
       "      <td>1</td>\n",
       "    </tr>\n",
       "    <tr>\n",
       "      <th>110511</th>\n",
       "      <td>I am tall, but this dress runs to long.</td>\n",
       "      <td>1</td>\n",
       "    </tr>\n",
       "    <tr>\n",
       "      <th>123861</th>\n",
       "      <td>I am normally between a 0 and 2.  I ordered a ...</td>\n",
       "      <td>1</td>\n",
       "    </tr>\n",
       "    <tr>\n",
       "      <th>133874</th>\n",
       "      <td>I am 5'7'', and this dress was very long and c...</td>\n",
       "      <td>1</td>\n",
       "    </tr>\n",
       "  </tbody>\n",
       "</table>\n",
       "</div>"
      ],
      "text/plain": [
       "                                                        0  1\n",
       "1461    I am 5' 2'' and tried the dress on 4 inch heel...  1\n",
       "5941    I am 5'4 and this dress was too short for me w...  1\n",
       "23775   I am 5'10\" and with this dress on in barefeet,...  1\n",
       "27615   I am pretty flexible with sizes and can usuall...  1\n",
       "27848   I am 6' tall and rented the 8 and the 10. The ...  1\n",
       "32024   I am pretty short and got the short version of...  1\n",
       "42762   I am not tall (5-6) but this jacket was Very s...  1\n",
       "42775   I am 5'6 and the large was way too short to we...  1\n",
       "43682   I am a 34C and per previous reviewers, sized u...  1\n",
       "45391   I am a size 8 in almost everything. The size 1...  1\n",
       "47452   I am petite but with a large chest.  This bare...  1\n",
       "50875   I am 5'2\" and hover around 130lbs, 28 pants, 3...  1\n",
       "51378   I am a huge fan of RTR (have worn 3 dresses pr...  1\n",
       "51539   I am a solid 14/16, so unsure of which would f...  1\n",
       "56751   I am 5 feet/107 lbs.  I ordered both a size 0 ...  1\n",
       "70371   I am typically a size 0 (5'6\"/123 pounds/34 D)...  1\n",
       "72226   I am petite and ordered an 8R. I was so excite...  1\n",
       "83035   I am 5'4\" and 120 lbs and I'm surprised at jus...  1\n",
       "87589   I am 5'8\", the long length was perfect. I was ...  1\n",
       "95295   I am normally a size 4-6, but I was unable to ...  1\n",
       "95416   I am normally a size 2/4 but after reading the...  1\n",
       "101785  I am not a prude but this really was impossibl...  1\n",
       "103487  I am normally a size four but this dress fit v...  1\n",
       "110511           I am tall, but this dress runs to long.   1\n",
       "123861  I am normally between a 0 and 2.  I ordered a ...  1\n",
       "133874  I am 5'7'', and this dress was very long and c...  1"
      ]
     },
     "execution_count": 15,
     "metadata": {},
     "output_type": "execute_result"
    }
   ],
   "source": [
    "train.loc[train[0].str.lower().str.startswith('i am') & (train[1] == 1)]"
   ]
  },
  {
   "cell_type": "code",
   "execution_count": 16,
   "id": "b6387241-b50b-4f22-8828-f21138779544",
   "metadata": {},
   "outputs": [
    {
     "data": {
      "text/html": [
       "<div>\n",
       "<style scoped>\n",
       "    .dataframe tbody tr th:only-of-type {\n",
       "        vertical-align: middle;\n",
       "    }\n",
       "\n",
       "    .dataframe tbody tr th {\n",
       "        vertical-align: top;\n",
       "    }\n",
       "\n",
       "    .dataframe thead th {\n",
       "        text-align: right;\n",
       "    }\n",
       "</style>\n",
       "<table border=\"1\" class=\"dataframe\">\n",
       "  <thead>\n",
       "    <tr style=\"text-align: right;\">\n",
       "      <th></th>\n",
       "      <th>0</th>\n",
       "      <th>1</th>\n",
       "    </tr>\n",
       "  </thead>\n",
       "  <tbody>\n",
       "    <tr>\n",
       "      <th>10</th>\n",
       "      <td>This is a gorgeous dress that was PERFECT, exc...</td>\n",
       "      <td>4</td>\n",
       "    </tr>\n",
       "    <tr>\n",
       "      <th>198</th>\n",
       "      <td>This is a very pretty dress. The back is sexy ...</td>\n",
       "      <td>5</td>\n",
       "    </tr>\n",
       "    <tr>\n",
       "      <th>289</th>\n",
       "      <td>This is an incredibly flattering, well made dr...</td>\n",
       "      <td>5</td>\n",
       "    </tr>\n",
       "    <tr>\n",
       "      <th>313</th>\n",
       "      <td>This is a great top, very stylish but somewhat...</td>\n",
       "      <td>4</td>\n",
       "    </tr>\n",
       "    <tr>\n",
       "      <th>432</th>\n",
       "      <td>This is a no fuss, easy to wear, beautiful dre...</td>\n",
       "      <td>5</td>\n",
       "    </tr>\n",
       "    <tr>\n",
       "      <th>...</th>\n",
       "      <td>...</td>\n",
       "      <td>...</td>\n",
       "    </tr>\n",
       "    <tr>\n",
       "      <th>134442</th>\n",
       "      <td>This is a great dress! The fabric color and te...</td>\n",
       "      <td>4</td>\n",
       "    </tr>\n",
       "    <tr>\n",
       "      <th>134476</th>\n",
       "      <td>This is a great top and you could even size do...</td>\n",
       "      <td>5</td>\n",
       "    </tr>\n",
       "    <tr>\n",
       "      <th>134483</th>\n",
       "      <td>This is a very causal and comfortable top! I l...</td>\n",
       "      <td>5</td>\n",
       "    </tr>\n",
       "    <tr>\n",
       "      <th>134493</th>\n",
       "      <td>This is probably because of my short/petit fra...</td>\n",
       "      <td>3</td>\n",
       "    </tr>\n",
       "    <tr>\n",
       "      <th>134570</th>\n",
       "      <td>This is a beautiful dress.  I did not experien...</td>\n",
       "      <td>5</td>\n",
       "    </tr>\n",
       "  </tbody>\n",
       "</table>\n",
       "<p>2265 rows × 2 columns</p>\n",
       "</div>"
      ],
      "text/plain": [
       "                                                        0  1\n",
       "10      This is a gorgeous dress that was PERFECT, exc...  4\n",
       "198     This is a very pretty dress. The back is sexy ...  5\n",
       "289     This is an incredibly flattering, well made dr...  5\n",
       "313     This is a great top, very stylish but somewhat...  4\n",
       "432     This is a no fuss, easy to wear, beautiful dre...  5\n",
       "...                                                   ... ..\n",
       "134442  This is a great dress! The fabric color and te...  4\n",
       "134476  This is a great top and you could even size do...  5\n",
       "134483  This is a very causal and comfortable top! I l...  5\n",
       "134493  This is probably because of my short/petit fra...  3\n",
       "134570  This is a beautiful dress.  I did not experien...  5\n",
       "\n",
       "[2265 rows x 2 columns]"
      ]
     },
     "execution_count": 16,
     "metadata": {},
     "output_type": "execute_result"
    }
   ],
   "source": [
    "train.loc[train[0].str.lower().str.startswith('this is')]"
   ]
  },
  {
   "cell_type": "code",
   "execution_count": 17,
   "id": "ea6fdc2e-ddb0-46a6-a541-13c51ddd434d",
   "metadata": {},
   "outputs": [
    {
     "data": {
      "text/html": [
       "<div>\n",
       "<style scoped>\n",
       "    .dataframe tbody tr th:only-of-type {\n",
       "        vertical-align: middle;\n",
       "    }\n",
       "\n",
       "    .dataframe tbody tr th {\n",
       "        vertical-align: top;\n",
       "    }\n",
       "\n",
       "    .dataframe thead th {\n",
       "        text-align: right;\n",
       "    }\n",
       "</style>\n",
       "<table border=\"1\" class=\"dataframe\">\n",
       "  <thead>\n",
       "    <tr style=\"text-align: right;\">\n",
       "      <th></th>\n",
       "      <th>0</th>\n",
       "      <th>1</th>\n",
       "    </tr>\n",
       "  </thead>\n",
       "  <tbody>\n",
       "    <tr>\n",
       "      <th>349</th>\n",
       "      <td>It fit well in the bust area, but was too tigh...</td>\n",
       "      <td>3</td>\n",
       "    </tr>\n",
       "    <tr>\n",
       "      <th>2474</th>\n",
       "      <td>it fit true to size</td>\n",
       "      <td>3</td>\n",
       "    </tr>\n",
       "    <tr>\n",
       "      <th>5253</th>\n",
       "      <td>It fits very large in the waist. I normally we...</td>\n",
       "      <td>3</td>\n",
       "    </tr>\n",
       "    <tr>\n",
       "      <th>5929</th>\n",
       "      <td>It fit everywhere except my hips.  It was a bi...</td>\n",
       "      <td>3</td>\n",
       "    </tr>\n",
       "    <tr>\n",
       "      <th>11273</th>\n",
       "      <td>It fit well. Under the arm, it was a little sc...</td>\n",
       "      <td>3</td>\n",
       "    </tr>\n",
       "    <tr>\n",
       "      <th>22411</th>\n",
       "      <td>it fit fine</td>\n",
       "      <td>3</td>\n",
       "    </tr>\n",
       "    <tr>\n",
       "      <th>26579</th>\n",
       "      <td>It fit like a glove, but the front skirt porti...</td>\n",
       "      <td>3</td>\n",
       "    </tr>\n",
       "    <tr>\n",
       "      <th>31110</th>\n",
       "      <td>It fit perfectly!</td>\n",
       "      <td>3</td>\n",
       "    </tr>\n",
       "    <tr>\n",
       "      <th>38161</th>\n",
       "      <td>It fit true to size and was very comfortable f...</td>\n",
       "      <td>3</td>\n",
       "    </tr>\n",
       "    <tr>\n",
       "      <th>45637</th>\n",
       "      <td>It fit but it felt like a straight jacket.  It...</td>\n",
       "      <td>3</td>\n",
       "    </tr>\n",
       "    <tr>\n",
       "      <th>48879</th>\n",
       "      <td>It fit well.  I'm 5'5\" and I wore flat (flip f...</td>\n",
       "      <td>3</td>\n",
       "    </tr>\n",
       "    <tr>\n",
       "      <th>52061</th>\n",
       "      <td>It fit great in the chest area for my large bu...</td>\n",
       "      <td>3</td>\n",
       "    </tr>\n",
       "    <tr>\n",
       "      <th>52643</th>\n",
       "      <td>It fit well, and was comfortable.</td>\n",
       "      <td>3</td>\n",
       "    </tr>\n",
       "    <tr>\n",
       "      <th>57268</th>\n",
       "      <td>It fit like a glove and was a beautiful materi...</td>\n",
       "      <td>3</td>\n",
       "    </tr>\n",
       "    <tr>\n",
       "      <th>57929</th>\n",
       "      <td>It fit well but make sure you have some great ...</td>\n",
       "      <td>3</td>\n",
       "    </tr>\n",
       "    <tr>\n",
       "      <th>59556</th>\n",
       "      <td>It fit great.</td>\n",
       "      <td>3</td>\n",
       "    </tr>\n",
       "    <tr>\n",
       "      <th>61700</th>\n",
       "      <td>It fit TTS. \\nHowever, I would not recommend i...</td>\n",
       "      <td>3</td>\n",
       "    </tr>\n",
       "    <tr>\n",
       "      <th>62533</th>\n",
       "      <td>It fit fine. It actually took away from my jum...</td>\n",
       "      <td>3</td>\n",
       "    </tr>\n",
       "    <tr>\n",
       "      <th>63631</th>\n",
       "      <td>It fits nicely. The fabric is a bit shiny. It ...</td>\n",
       "      <td>3</td>\n",
       "    </tr>\n",
       "    <tr>\n",
       "      <th>64993</th>\n",
       "      <td>it fit fine but it was my backup and i went wi...</td>\n",
       "      <td>3</td>\n",
       "    </tr>\n",
       "    <tr>\n",
       "      <th>66573</th>\n",
       "      <td>It fits true to size and is just the right len...</td>\n",
       "      <td>3</td>\n",
       "    </tr>\n",
       "    <tr>\n",
       "      <th>72604</th>\n",
       "      <td>It fit okay in the legs however, it was extrem...</td>\n",
       "      <td>3</td>\n",
       "    </tr>\n",
       "    <tr>\n",
       "      <th>73961</th>\n",
       "      <td>It fit but I felt a like I was drowning in the...</td>\n",
       "      <td>3</td>\n",
       "    </tr>\n",
       "    <tr>\n",
       "      <th>76316</th>\n",
       "      <td>It fit loose through the waist and chest area ...</td>\n",
       "      <td>3</td>\n",
       "    </tr>\n",
       "    <tr>\n",
       "      <th>76572</th>\n",
       "      <td>It fit around the waist perfectly, but I could...</td>\n",
       "      <td>3</td>\n",
       "    </tr>\n",
       "    <tr>\n",
       "      <th>78060</th>\n",
       "      <td>It fit great on my chest but squeezed flesh th...</td>\n",
       "      <td>3</td>\n",
       "    </tr>\n",
       "    <tr>\n",
       "      <th>80049</th>\n",
       "      <td>it fit well, was a bit loose in the top but th...</td>\n",
       "      <td>3</td>\n",
       "    </tr>\n",
       "    <tr>\n",
       "      <th>81594</th>\n",
       "      <td>It fit a little tight in the rib cage. But ove...</td>\n",
       "      <td>3</td>\n",
       "    </tr>\n",
       "    <tr>\n",
       "      <th>82225</th>\n",
       "      <td>It fit a little odd around the waste.  This is...</td>\n",
       "      <td>3</td>\n",
       "    </tr>\n",
       "    <tr>\n",
       "      <th>82846</th>\n",
       "      <td>it fit a bit too big on me,</td>\n",
       "      <td>3</td>\n",
       "    </tr>\n",
       "    <tr>\n",
       "      <th>85978</th>\n",
       "      <td>It fit to snug on my hips and loose on top. I ...</td>\n",
       "      <td>3</td>\n",
       "    </tr>\n",
       "    <tr>\n",
       "      <th>86147</th>\n",
       "      <td>It fit fine but wasn't special.  Plus the sequ...</td>\n",
       "      <td>3</td>\n",
       "    </tr>\n",
       "    <tr>\n",
       "      <th>91326</th>\n",
       "      <td>It fit me a little too much like an 80's prom ...</td>\n",
       "      <td>3</td>\n",
       "    </tr>\n",
       "    <tr>\n",
       "      <th>92201</th>\n",
       "      <td>It fit big in the back. I didn't get to wear i...</td>\n",
       "      <td>3</td>\n",
       "    </tr>\n",
       "    <tr>\n",
       "      <th>100136</th>\n",
       "      <td>It fit pretty well but the dress is rather pla...</td>\n",
       "      <td>3</td>\n",
       "    </tr>\n",
       "    <tr>\n",
       "      <th>100891</th>\n",
       "      <td>It fit, but was not flattering in the stomach ...</td>\n",
       "      <td>3</td>\n",
       "    </tr>\n",
       "    <tr>\n",
       "      <th>105701</th>\n",
       "      <td>It fits well and the cut is great.  The button...</td>\n",
       "      <td>3</td>\n",
       "    </tr>\n",
       "    <tr>\n",
       "      <th>109727</th>\n",
       "      <td>It fit OK--I have a tall slender figure with s...</td>\n",
       "      <td>3</td>\n",
       "    </tr>\n",
       "    <tr>\n",
       "      <th>109728</th>\n",
       "      <td>It fits longer than expected, and the material...</td>\n",
       "      <td>3</td>\n",
       "    </tr>\n",
       "    <tr>\n",
       "      <th>112605</th>\n",
       "      <td>It fits perfect. I am 5'6\" / 140lb the only is...</td>\n",
       "      <td>3</td>\n",
       "    </tr>\n",
       "    <tr>\n",
       "      <th>118705</th>\n",
       "      <td>It fit well in the waist, but the straps kept ...</td>\n",
       "      <td>3</td>\n",
       "    </tr>\n",
       "    <tr>\n",
       "      <th>123154</th>\n",
       "      <td>It fit well - but it was a lot of fabric... I ...</td>\n",
       "      <td>3</td>\n",
       "    </tr>\n",
       "    <tr>\n",
       "      <th>131584</th>\n",
       "      <td>It fit a little like a potato sack, even with ...</td>\n",
       "      <td>3</td>\n",
       "    </tr>\n",
       "  </tbody>\n",
       "</table>\n",
       "</div>"
      ],
      "text/plain": [
       "                                                        0  1\n",
       "349     It fit well in the bust area, but was too tigh...  3\n",
       "2474                                  it fit true to size  3\n",
       "5253    It fits very large in the waist. I normally we...  3\n",
       "5929    It fit everywhere except my hips.  It was a bi...  3\n",
       "11273   It fit well. Under the arm, it was a little sc...  3\n",
       "22411                                        it fit fine   3\n",
       "26579   It fit like a glove, but the front skirt porti...  3\n",
       "31110                                  It fit perfectly!   3\n",
       "38161   It fit true to size and was very comfortable f...  3\n",
       "45637   It fit but it felt like a straight jacket.  It...  3\n",
       "48879   It fit well.  I'm 5'5\" and I wore flat (flip f...  3\n",
       "52061   It fit great in the chest area for my large bu...  3\n",
       "52643                   It fit well, and was comfortable.  3\n",
       "57268   It fit like a glove and was a beautiful materi...  3\n",
       "57929   It fit well but make sure you have some great ...  3\n",
       "59556                                       It fit great.  3\n",
       "61700   It fit TTS. \\nHowever, I would not recommend i...  3\n",
       "62533   It fit fine. It actually took away from my jum...  3\n",
       "63631   It fits nicely. The fabric is a bit shiny. It ...  3\n",
       "64993   it fit fine but it was my backup and i went wi...  3\n",
       "66573   It fits true to size and is just the right len...  3\n",
       "72604   It fit okay in the legs however, it was extrem...  3\n",
       "73961   It fit but I felt a like I was drowning in the...  3\n",
       "76316   It fit loose through the waist and chest area ...  3\n",
       "76572   It fit around the waist perfectly, but I could...  3\n",
       "78060   It fit great on my chest but squeezed flesh th...  3\n",
       "80049   it fit well, was a bit loose in the top but th...  3\n",
       "81594   It fit a little tight in the rib cage. But ove...  3\n",
       "82225   It fit a little odd around the waste.  This is...  3\n",
       "82846                         it fit a bit too big on me,  3\n",
       "85978   It fit to snug on my hips and loose on top. I ...  3\n",
       "86147   It fit fine but wasn't special.  Plus the sequ...  3\n",
       "91326   It fit me a little too much like an 80's prom ...  3\n",
       "92201   It fit big in the back. I didn't get to wear i...  3\n",
       "100136  It fit pretty well but the dress is rather pla...  3\n",
       "100891  It fit, but was not flattering in the stomach ...  3\n",
       "105701  It fits well and the cut is great.  The button...  3\n",
       "109727  It fit OK--I have a tall slender figure with s...  3\n",
       "109728  It fits longer than expected, and the material...  3\n",
       "112605  It fits perfect. I am 5'6\" / 140lb the only is...  3\n",
       "118705  It fit well in the waist, but the straps kept ...  3\n",
       "123154  It fit well - but it was a lot of fabric... I ...  3\n",
       "131584  It fit a little like a potato sack, even with ...  3"
      ]
     },
     "execution_count": 17,
     "metadata": {},
     "output_type": "execute_result"
    }
   ],
   "source": [
    "train.loc[train[0].str.lower().str.startswith('it fit') & (train[1] == 3)]"
   ]
  },
  {
   "cell_type": "code",
   "execution_count": null,
   "id": "fc359abc-0f45-408f-82cd-fbd190142a14",
   "metadata": {},
   "outputs": [],
   "source": []
  },
  {
   "cell_type": "markdown",
   "id": "622ea120-3e5d-418e-aa16-5ec03c7f2143",
   "metadata": {},
   "source": [
    "More notes:\n",
    "- There are a lot of height values. Parsing them would be important? I don't know."
   ]
  },
  {
   "cell_type": "markdown",
   "id": "d6f57d4a-6baa-4723-9dc5-0095dd80838d",
   "metadata": {},
   "source": [
    "Let's do one more metric: number of exclamation marks (!) predicts sentiment (likelihood weigh this)"
   ]
  },
  {
   "cell_type": "code",
   "execution_count": 18,
   "id": "a15f19c0-1b77-40b7-b13b-59dab852ba47",
   "metadata": {},
   "outputs": [
    {
     "data": {
      "text/plain": [
       "[<matplotlib.lines.Line2D at 0x1260fc9a0>]"
      ]
     },
     "execution_count": 18,
     "metadata": {},
     "output_type": "execute_result"
    },
    {
     "data": {
      "image/png": "[encoded data removed]",
      "text/plain": [
       "<Figure size 432x288 with 1 Axes>"
      ]
     },
     "metadata": {
      "needs_background": "light"
     },
     "output_type": "display_data"
    }
   ],
   "source": [
    "excl_cnt = train[0].str.count('!')\n",
    "tot_excl_cnts = sum(excl_cnt)\n",
    "excl_cnts = []\n",
    "for i in range(1,6):\n",
    "    n_excl_cnts = sum(excl_cnt.loc[train[1] == i])\n",
    "    n_cnts = len(train.loc[train[1] == 1])\n",
    "    norm_excl_cnts = (n_excl_cnts/tot_excl_cnts)*(n_cnts/len(train))\n",
    "    excl_cnts.append(norm_excl_cnts)\n",
    "\n",
    "# normalize excl_cnts to 1\n",
    "s = sum(excl_cnts)\n",
    "excl_cnts = [i/s for i in excl_cnts]\n",
    "plt.plot(range(1,6), excl_cnts)"
   ]
  },
  {
   "cell_type": "code",
   "execution_count": 19,
   "id": "757b36c6-5474-44e5-9865-90b198bc1b11",
   "metadata": {},
   "outputs": [
    {
     "data": {
      "text/plain": [
       "[0.0019011723896402782,\n",
       " 0.004536130613878558,\n",
       " 0.020696095925820925,\n",
       " 0.2069359438320298,\n",
       " 0.7659306572386305]"
      ]
     },
     "execution_count": 19,
     "metadata": {},
     "output_type": "execute_result"
    }
   ],
   "source": [
    "excl_cnts"
   ]
  },
  {
   "cell_type": "markdown",
   "id": "0227c76d-66b4-4eda-b69f-476de9416819",
   "metadata": {},
   "source": [
    "very strong correlation with seeing an exclamation mark and it being a positive review."
   ]
  },
  {
   "cell_type": "code",
   "execution_count": null,
   "id": "ee831dde-fe07-4eef-b201-6ce3d27158da",
   "metadata": {},
   "outputs": [],
   "source": []
  },
  {
   "cell_type": "code",
   "execution_count": 20,
   "id": "773c8bd1-ddd9-443a-b06a-a7079a54ca51",
   "metadata": {},
   "outputs": [],
   "source": [
    "# from collections import Counter\n",
    "# from imblearn.combine import SMOTEENN\n",
    "# from imblearn.over_sampling import RandomOverSampler\n",
    "# \n",
    "# ros = RandomOverSampler(random_state=42)\n",
    "# smote_enn = SMOTEENN(random_state=42)\n",
    "# X_resampled, y_resampled = ros.fit_resample(df[0].to_numpy().reshape(-1,1), df[1])\n",
    "# \n",
    "# print(sorted(Counter(y_resampled).items()))"
   ]
  },
  {
   "cell_type": "markdown",
   "id": "2fca8c1f-58c8-4f61-9ea8-9c2aa0c7bf76",
   "metadata": {},
   "source": [
    "## Downsampling\n",
    "\n",
    "so that my laptop doesn't spontaneously combust"
   ]
  },
  {
   "cell_type": "code",
   "execution_count": 21,
   "id": "c606cc6a-5d31-48f6-82c8-9d03a719cb36",
   "metadata": {},
   "outputs": [
    {
     "data": {
      "text/html": [
       "<div>\n",
       "<style scoped>\n",
       "    .dataframe tbody tr th:only-of-type {\n",
       "        vertical-align: middle;\n",
       "    }\n",
       "\n",
       "    .dataframe tbody tr th {\n",
       "        vertical-align: top;\n",
       "    }\n",
       "\n",
       "    .dataframe thead th {\n",
       "        text-align: right;\n",
       "    }\n",
       "</style>\n",
       "<table border=\"1\" class=\"dataframe\">\n",
       "  <thead>\n",
       "    <tr style=\"text-align: right;\">\n",
       "      <th></th>\n",
       "      <th>0</th>\n",
       "      <th>1</th>\n",
       "    </tr>\n",
       "  </thead>\n",
       "  <tbody>\n",
       "    <tr>\n",
       "      <th>0</th>\n",
       "      <td>Awkward fit for someone who has a small chest.</td>\n",
       "      <td>1</td>\n",
       "    </tr>\n",
       "    <tr>\n",
       "      <th>1</th>\n",
       "      <td>So I ordered this dress for dinner, but it was...</td>\n",
       "      <td>1</td>\n",
       "    </tr>\n",
       "    <tr>\n",
       "      <th>2</th>\n",
       "      <td>If you have supple boobs first off--Congrats!!...</td>\n",
       "      <td>1</td>\n",
       "    </tr>\n",
       "    <tr>\n",
       "      <th>3</th>\n",
       "      <td>The fabric would be great for a cool evening.</td>\n",
       "      <td>1</td>\n",
       "    </tr>\n",
       "    <tr>\n",
       "      <th>4</th>\n",
       "      <td>Even though I had an XS the romper was really ...</td>\n",
       "      <td>1</td>\n",
       "    </tr>\n",
       "    <tr>\n",
       "      <th>...</th>\n",
       "      <td>...</td>\n",
       "      <td>...</td>\n",
       "    </tr>\n",
       "    <tr>\n",
       "      <th>3740</th>\n",
       "      <td>This dress fit very nicely. It was comfortable...</td>\n",
       "      <td>5</td>\n",
       "    </tr>\n",
       "    <tr>\n",
       "      <th>3741</th>\n",
       "      <td>Fit is true to size and was perfect for a beac...</td>\n",
       "      <td>5</td>\n",
       "    </tr>\n",
       "    <tr>\n",
       "      <th>3742</th>\n",
       "      <td>Fit true to size, if you are wearing heels and...</td>\n",
       "      <td>5</td>\n",
       "    </tr>\n",
       "    <tr>\n",
       "      <th>3743</th>\n",
       "      <td>I am only 5'1\" and the jumpsuit was the perfec...</td>\n",
       "      <td>5</td>\n",
       "    </tr>\n",
       "    <tr>\n",
       "      <th>3744</th>\n",
       "      <td>The cut is TTS - since some parts of the hemli...</td>\n",
       "      <td>5</td>\n",
       "    </tr>\n",
       "  </tbody>\n",
       "</table>\n",
       "<p>3745 rows × 2 columns</p>\n",
       "</div>"
      ],
      "text/plain": [
       "                                                      0  1\n",
       "0        Awkward fit for someone who has a small chest.  1\n",
       "1     So I ordered this dress for dinner, but it was...  1\n",
       "2     If you have supple boobs first off--Congrats!!...  1\n",
       "3       The fabric would be great for a cool evening.    1\n",
       "4     Even though I had an XS the romper was really ...  1\n",
       "...                                                 ... ..\n",
       "3740  This dress fit very nicely. It was comfortable...  5\n",
       "3741  Fit is true to size and was perfect for a beac...  5\n",
       "3742  Fit true to size, if you are wearing heels and...  5\n",
       "3743  I am only 5'1\" and the jumpsuit was the perfec...  5\n",
       "3744  The cut is TTS - since some parts of the hemli...  5\n",
       "\n",
       "[3745 rows x 2 columns]"
      ]
     },
     "execution_count": 21,
     "metadata": {},
     "output_type": "execute_result"
    }
   ],
   "source": [
    "from imblearn.under_sampling import RandomUnderSampler\n",
    "\n",
    "rus = RandomUnderSampler()\n",
    "X, y = rus.fit_resample(train[0].to_numpy().reshape(-1,1), train[1])\n",
    "train = pd.DataFrame({0: X.flatten(), 1: y})\n",
    "train"
   ]
  },
  {
   "cell_type": "code",
   "execution_count": 22,
   "id": "c1ea9487-b460-44b7-8319-d08c6c477115",
   "metadata": {},
   "outputs": [
    {
     "data": {
      "text/plain": [
       "(array([749.,   0., 749.,   0.,   0., 749.,   0., 749.,   0., 749.]),\n",
       " array([1. , 1.4, 1.8, 2.2, 2.6, 3. , 3.4, 3.8, 4.2, 4.6, 5. ]),\n",
       " <BarContainer object of 10 artists>)"
      ]
     },
     "execution_count": 22,
     "metadata": {},
     "output_type": "execute_result"
    },
    {
     "data": {
      "image/png": "[encoded data removed]",
      "text/plain": [
       "<Figure size 432x288 with 1 Axes>"
      ]
     },
     "metadata": {
      "needs_background": "light"
     },
     "output_type": "display_data"
    }
   ],
   "source": [
    "plt.hist(train[1])"
   ]
  },
  {
   "cell_type": "markdown",
   "id": "bd895bd4-e88b-4fbc-9324-421a6f70ebe7",
   "metadata": {},
   "source": [
    "## Splits"
   ]
  },
  {
   "cell_type": "code",
   "execution_count": 25,
   "id": "71741dd1-4c44-43f9-8296-3d4db24017a6",
   "metadata": {},
   "outputs": [
    {
     "data": {
      "text/plain": [
       "(2996, 749)"
      ]
     },
     "execution_count": 25,
     "metadata": {},
     "output_type": "execute_result"
    }
   ],
   "source": [
    "from sklearn.model_selection import train_test_split\n",
    "\n",
    "X, y = train[0], train[1]\n",
    "\n",
    "X_train, X_val, y_train, y_val = train_test_split(X, y, test_size=0.2, random_state=42)\n",
    "train = pd.DataFrame({0: X_train, 1: y_train}) # reindexing?\n",
    "val = pd.DataFrame({0: X_val, 1: y_val})\n",
    "len(train), len(val)"
   ]
  },
  {
   "cell_type": "code",
   "execution_count": 26,
   "id": "f060d0ad-0324-4656-b993-410f468daf5c",
   "metadata": {},
   "outputs": [
    {
     "data": {
      "text/html": [
       "<div>\n",
       "<style scoped>\n",
       "    .dataframe tbody tr th:only-of-type {\n",
       "        vertical-align: middle;\n",
       "    }\n",
       "\n",
       "    .dataframe tbody tr th {\n",
       "        vertical-align: top;\n",
       "    }\n",
       "\n",
       "    .dataframe thead th {\n",
       "        text-align: right;\n",
       "    }\n",
       "</style>\n",
       "<table border=\"1\" class=\"dataframe\">\n",
       "  <thead>\n",
       "    <tr style=\"text-align: right;\">\n",
       "      <th></th>\n",
       "      <th>0</th>\n",
       "      <th>1</th>\n",
       "    </tr>\n",
       "  </thead>\n",
       "  <tbody>\n",
       "    <tr>\n",
       "      <th>3400</th>\n",
       "      <td>Great for large bust</td>\n",
       "      <td>5</td>\n",
       "    </tr>\n",
       "    <tr>\n",
       "      <th>1114</th>\n",
       "      <td>The fabric is pretty thick and I had too much ...</td>\n",
       "      <td>2</td>\n",
       "    </tr>\n",
       "    <tr>\n",
       "      <th>351</th>\n",
       "      <td>Too tight. Unflattering.</td>\n",
       "      <td>1</td>\n",
       "    </tr>\n",
       "    <tr>\n",
       "      <th>2126</th>\n",
       "      <td>I had a baby a couple months ago and rented th...</td>\n",
       "      <td>3</td>\n",
       "    </tr>\n",
       "    <tr>\n",
       "      <th>2323</th>\n",
       "      <td>I have nothing negative to say about this dres...</td>\n",
       "      <td>4</td>\n",
       "    </tr>\n",
       "    <tr>\n",
       "      <th>...</th>\n",
       "      <td>...</td>\n",
       "      <td>...</td>\n",
       "    </tr>\n",
       "    <tr>\n",
       "      <th>2111</th>\n",
       "      <td>The dress is beautifully constructed. The lini...</td>\n",
       "      <td>3</td>\n",
       "    </tr>\n",
       "    <tr>\n",
       "      <th>3392</th>\n",
       "      <td>Not too snug but sexy enough.  I love the gold...</td>\n",
       "      <td>5</td>\n",
       "    </tr>\n",
       "    <tr>\n",
       "      <th>612</th>\n",
       "      <td>Does not look as good in the pictures as it do...</td>\n",
       "      <td>1</td>\n",
       "    </tr>\n",
       "    <tr>\n",
       "      <th>1551</th>\n",
       "      <td>I ended up selecting another dress because the...</td>\n",
       "      <td>3</td>\n",
       "    </tr>\n",
       "    <tr>\n",
       "      <th>1084</th>\n",
       "      <td>Unfortunately, the romper was boxy and too lar...</td>\n",
       "      <td>2</td>\n",
       "    </tr>\n",
       "  </tbody>\n",
       "</table>\n",
       "<p>749 rows × 2 columns</p>\n",
       "</div>"
      ],
      "text/plain": [
       "                                                      0  1\n",
       "3400                               Great for large bust  5\n",
       "1114  The fabric is pretty thick and I had too much ...  2\n",
       "351                            Too tight. Unflattering.  1\n",
       "2126  I had a baby a couple months ago and rented th...  3\n",
       "2323  I have nothing negative to say about this dres...  4\n",
       "...                                                 ... ..\n",
       "2111  The dress is beautifully constructed. The lini...  3\n",
       "3392  Not too snug but sexy enough.  I love the gold...  5\n",
       "612   Does not look as good in the pictures as it do...  1\n",
       "1551  I ended up selecting another dress because the...  3\n",
       "1084  Unfortunately, the romper was boxy and too lar...  2\n",
       "\n",
       "[749 rows x 2 columns]"
      ]
     },
     "execution_count": 26,
     "metadata": {},
     "output_type": "execute_result"
    }
   ],
   "source": [
    "val"
   ]
  },
  {
   "cell_type": "markdown",
   "id": "9677835b-b8fe-4bb2-96f6-a8e01f050b0b",
   "metadata": {},
   "source": [
    "## Feature Extraction\n",
    "\n",
    "Tokenize -> POS tag -> negate -> stopword removal -> Stemming -> bigram + trigram extraction -> tf-idf -> tSNE embedding"
   ]
  },
  {
   "cell_type": "code",
   "execution_count": 27,
   "id": "7b371d4e-fb59-43c7-aea2-4486e6f432cd",
   "metadata": {},
   "outputs": [
    {
     "data": {
      "text/plain": [
       "'Don\\'t rent this if you\\'re actually a size 0. The dress was huge the 0 fit like it was a size 4. I didn\\'t have time to swap it out so I wore it and tried taping it up. Super uncomfortable all night. Along with that it was too worn and frayed looking the lace scalloped ends were pilling and turned white. Overall I was very unimpressed on this one. On the plus side it\\'s a nice red color and nice length for me (I\\'m 5\\'1\").'"
      ]
     },
     "execution_count": 27,
     "metadata": {},
     "output_type": "execute_result"
    }
   ],
   "source": [
    "train[0][485]"
   ]
  },
  {
   "cell_type": "code",
   "execution_count": 28,
   "id": "91b5c649-3688-4968-9b25-5f64aa6a986b",
   "metadata": {},
   "outputs": [
    {
     "data": {
      "text/html": [
       "<div>\n",
       "<style scoped>\n",
       "    .dataframe tbody tr th:only-of-type {\n",
       "        vertical-align: middle;\n",
       "    }\n",
       "\n",
       "    .dataframe tbody tr th {\n",
       "        vertical-align: top;\n",
       "    }\n",
       "\n",
       "    .dataframe thead th {\n",
       "        text-align: right;\n",
       "    }\n",
       "</style>\n",
       "<table border=\"1\" class=\"dataframe\">\n",
       "  <thead>\n",
       "    <tr style=\"text-align: right;\">\n",
       "      <th></th>\n",
       "      <th>0</th>\n",
       "      <th>1</th>\n",
       "      <th>2</th>\n",
       "    </tr>\n",
       "  </thead>\n",
       "  <tbody>\n",
       "    <tr>\n",
       "      <th>2171</th>\n",
       "      <td>This dress is stunning. The fit is perfect and...</td>\n",
       "      <td>3</td>\n",
       "      <td>[This, dress, is, stunning, ., The, fit, is, p...</td>\n",
       "    </tr>\n",
       "    <tr>\n",
       "      <th>485</th>\n",
       "      <td>Don't rent this if you're actually a size 0. T...</td>\n",
       "      <td>1</td>\n",
       "      <td>[Do, n't, rent, this, if, you, 're, actually, ...</td>\n",
       "    </tr>\n",
       "    <tr>\n",
       "      <th>2174</th>\n",
       "      <td>It was baggy around the waist and tight around...</td>\n",
       "      <td>3</td>\n",
       "      <td>[It, was, baggy, around, the, waist, and, tigh...</td>\n",
       "    </tr>\n",
       "    <tr>\n",
       "      <th>3387</th>\n",
       "      <td>I wore this dress for a special dinner out wit...</td>\n",
       "      <td>5</td>\n",
       "      <td>[I, wore, this, dress, for, a, special, dinner...</td>\n",
       "    </tr>\n",
       "    <tr>\n",
       "      <th>2586</th>\n",
       "      <td>Thick fabric that didn't wrinkle and allowed f...</td>\n",
       "      <td>4</td>\n",
       "      <td>[Thick, fabric, that, did, n't, wrinkle, and, ...</td>\n",
       "    </tr>\n",
       "    <tr>\n",
       "      <th>...</th>\n",
       "      <td>...</td>\n",
       "      <td>...</td>\n",
       "      <td>...</td>\n",
       "    </tr>\n",
       "    <tr>\n",
       "      <th>1130</th>\n",
       "      <td>This dress is way too big for a person with a ...</td>\n",
       "      <td>2</td>\n",
       "      <td>[This, dress, is, way, too, big, for, a, perso...</td>\n",
       "    </tr>\n",
       "    <tr>\n",
       "      <th>1294</th>\n",
       "      <td>The fit of this dress did not work for me.  Ty...</td>\n",
       "      <td>2</td>\n",
       "      <td>[The, fit, of, this, dress, did, not, work, fo...</td>\n",
       "    </tr>\n",
       "    <tr>\n",
       "      <th>860</th>\n",
       "      <td>I ordered this dress for my birthday dinner. T...</td>\n",
       "      <td>2</td>\n",
       "      <td>[I, ordered, this, dress, for, my, birthday, d...</td>\n",
       "    </tr>\n",
       "    <tr>\n",
       "      <th>3507</th>\n",
       "      <td>I wore this for a formal event.  The length wa...</td>\n",
       "      <td>5</td>\n",
       "      <td>[I, wore, this, for, a, formal, event, ., The,...</td>\n",
       "    </tr>\n",
       "    <tr>\n",
       "      <th>3174</th>\n",
       "      <td>I wore this dress to a dinner party for my sis...</td>\n",
       "      <td>5</td>\n",
       "      <td>[I, wore, this, dress, to, a, dinner, party, f...</td>\n",
       "    </tr>\n",
       "  </tbody>\n",
       "</table>\n",
       "<p>2996 rows × 3 columns</p>\n",
       "</div>"
      ],
      "text/plain": [
       "                                                      0  1  \\\n",
       "2171  This dress is stunning. The fit is perfect and...  3   \n",
       "485   Don't rent this if you're actually a size 0. T...  1   \n",
       "2174  It was baggy around the waist and tight around...  3   \n",
       "3387  I wore this dress for a special dinner out wit...  5   \n",
       "2586  Thick fabric that didn't wrinkle and allowed f...  4   \n",
       "...                                                 ... ..   \n",
       "1130  This dress is way too big for a person with a ...  2   \n",
       "1294  The fit of this dress did not work for me.  Ty...  2   \n",
       "860   I ordered this dress for my birthday dinner. T...  2   \n",
       "3507  I wore this for a formal event.  The length wa...  5   \n",
       "3174  I wore this dress to a dinner party for my sis...  5   \n",
       "\n",
       "                                                      2  \n",
       "2171  [This, dress, is, stunning, ., The, fit, is, p...  \n",
       "485   [Do, n't, rent, this, if, you, 're, actually, ...  \n",
       "2174  [It, was, baggy, around, the, waist, and, tigh...  \n",
       "3387  [I, wore, this, dress, for, a, special, dinner...  \n",
       "2586  [Thick, fabric, that, did, n't, wrinkle, and, ...  \n",
       "...                                                 ...  \n",
       "1130  [This, dress, is, way, too, big, for, a, perso...  \n",
       "1294  [The, fit, of, this, dress, did, not, work, fo...  \n",
       "860   [I, ordered, this, dress, for, my, birthday, d...  \n",
       "3507  [I, wore, this, for, a, formal, event, ., The,...  \n",
       "3174  [I, wore, this, dress, to, a, dinner, party, f...  \n",
       "\n",
       "[2996 rows x 3 columns]"
      ]
     },
     "execution_count": 28,
     "metadata": {},
     "output_type": "execute_result"
    }
   ],
   "source": [
    "# tokenize\n",
    "from nltk.tokenize import word_tokenize\n",
    "train[2] = train[0].apply(word_tokenize)\n",
    "val[2] = val[0].apply(word_tokenize)\n",
    "train"
   ]
  },
  {
   "cell_type": "code",
   "execution_count": 29,
   "id": "9661b356-cea4-44a5-a7c4-5d440f702041",
   "metadata": {},
   "outputs": [],
   "source": [
    "# POS tag\n",
    "import nltk\n",
    "train[3] = train[2].apply(nltk.pos_tag)\n",
    "val[3] = val[2].apply(nltk.pos_tag)\n"
   ]
  },
  {
   "cell_type": "code",
   "execution_count": 30,
   "id": "9d95baf6-4a77-4e76-a64c-a7163a28c04d",
   "metadata": {},
   "outputs": [
    {
     "data": {
      "text/html": [
       "<div>\n",
       "<style scoped>\n",
       "    .dataframe tbody tr th:only-of-type {\n",
       "        vertical-align: middle;\n",
       "    }\n",
       "\n",
       "    .dataframe tbody tr th {\n",
       "        vertical-align: top;\n",
       "    }\n",
       "\n",
       "    .dataframe thead th {\n",
       "        text-align: right;\n",
       "    }\n",
       "</style>\n",
       "<table border=\"1\" class=\"dataframe\">\n",
       "  <thead>\n",
       "    <tr style=\"text-align: right;\">\n",
       "      <th></th>\n",
       "      <th>0</th>\n",
       "      <th>1</th>\n",
       "      <th>2</th>\n",
       "      <th>3</th>\n",
       "    </tr>\n",
       "  </thead>\n",
       "  <tbody>\n",
       "    <tr>\n",
       "      <th>2171</th>\n",
       "      <td>This dress is stunning. The fit is perfect and...</td>\n",
       "      <td>3</td>\n",
       "      <td>[This, dress, is, stunning, ., The, fit, is, p...</td>\n",
       "      <td>[(This, DT), (dress, NN), (is, VBZ), (stunning...</td>\n",
       "    </tr>\n",
       "    <tr>\n",
       "      <th>485</th>\n",
       "      <td>Don't rent this if you're actually a size 0. T...</td>\n",
       "      <td>1</td>\n",
       "      <td>[Do, n't, rent, this, if, you, 're, actually, ...</td>\n",
       "      <td>[(Do, VBP), (n't, RB), (rent, VB), (this, DT),...</td>\n",
       "    </tr>\n",
       "    <tr>\n",
       "      <th>2174</th>\n",
       "      <td>It was baggy around the waist and tight around...</td>\n",
       "      <td>3</td>\n",
       "      <td>[It, was, baggy, around, the, waist, and, tigh...</td>\n",
       "      <td>[(It, PRP), (was, VBD), (baggy, VBN), (around,...</td>\n",
       "    </tr>\n",
       "    <tr>\n",
       "      <th>3387</th>\n",
       "      <td>I wore this dress for a special dinner out wit...</td>\n",
       "      <td>5</td>\n",
       "      <td>[I, wore, this, dress, for, a, special, dinner...</td>\n",
       "      <td>[(I, PRP), (wore, VBP), (this, DT), (dress, NN...</td>\n",
       "    </tr>\n",
       "    <tr>\n",
       "      <th>2586</th>\n",
       "      <td>Thick fabric that didn't wrinkle and allowed f...</td>\n",
       "      <td>4</td>\n",
       "      <td>[Thick, fabric, that, did, n't, wrinkle, and, ...</td>\n",
       "      <td>[(Thick, NNP), (fabric, NN), (that, WDT), (did...</td>\n",
       "    </tr>\n",
       "    <tr>\n",
       "      <th>...</th>\n",
       "      <td>...</td>\n",
       "      <td>...</td>\n",
       "      <td>...</td>\n",
       "      <td>...</td>\n",
       "    </tr>\n",
       "    <tr>\n",
       "      <th>1130</th>\n",
       "      <td>This dress is way too big for a person with a ...</td>\n",
       "      <td>2</td>\n",
       "      <td>[This, dress, is, way, too, big, for, a, perso...</td>\n",
       "      <td>[(This, DT), (dress, NN), (is, VBZ), (way, NN)...</td>\n",
       "    </tr>\n",
       "    <tr>\n",
       "      <th>1294</th>\n",
       "      <td>The fit of this dress did not work for me.  Ty...</td>\n",
       "      <td>2</td>\n",
       "      <td>[The, fit, of, this, dress, did, not, work, fo...</td>\n",
       "      <td>[(The, DT), (fit, NN), (of, IN), (this, DT), (...</td>\n",
       "    </tr>\n",
       "    <tr>\n",
       "      <th>860</th>\n",
       "      <td>I ordered this dress for my birthday dinner. T...</td>\n",
       "      <td>2</td>\n",
       "      <td>[I, ordered, this, dress, for, my, birthday, d...</td>\n",
       "      <td>[(I, PRP), (ordered, VBD), (this, DT), (dress,...</td>\n",
       "    </tr>\n",
       "    <tr>\n",
       "      <th>3507</th>\n",
       "      <td>I wore this for a formal event.  The length wa...</td>\n",
       "      <td>5</td>\n",
       "      <td>[I, wore, this, for, a, formal, event, ., The,...</td>\n",
       "      <td>[(I, PRP), (wore, VBP), (this, DT), (for, IN),...</td>\n",
       "    </tr>\n",
       "    <tr>\n",
       "      <th>3174</th>\n",
       "      <td>I wore this dress to a dinner party for my sis...</td>\n",
       "      <td>5</td>\n",
       "      <td>[I, wore, this, dress, to, a, dinner, party, f...</td>\n",
       "      <td>[(I, PRP), (wore, VBP), (this, DT), (dress, NN...</td>\n",
       "    </tr>\n",
       "  </tbody>\n",
       "</table>\n",
       "<p>2996 rows × 4 columns</p>\n",
       "</div>"
      ],
      "text/plain": [
       "                                                      0  1  \\\n",
       "2171  This dress is stunning. The fit is perfect and...  3   \n",
       "485   Don't rent this if you're actually a size 0. T...  1   \n",
       "2174  It was baggy around the waist and tight around...  3   \n",
       "3387  I wore this dress for a special dinner out wit...  5   \n",
       "2586  Thick fabric that didn't wrinkle and allowed f...  4   \n",
       "...                                                 ... ..   \n",
       "1130  This dress is way too big for a person with a ...  2   \n",
       "1294  The fit of this dress did not work for me.  Ty...  2   \n",
       "860   I ordered this dress for my birthday dinner. T...  2   \n",
       "3507  I wore this for a formal event.  The length wa...  5   \n",
       "3174  I wore this dress to a dinner party for my sis...  5   \n",
       "\n",
       "                                                      2  \\\n",
       "2171  [This, dress, is, stunning, ., The, fit, is, p...   \n",
       "485   [Do, n't, rent, this, if, you, 're, actually, ...   \n",
       "2174  [It, was, baggy, around, the, waist, and, tigh...   \n",
       "3387  [I, wore, this, dress, for, a, special, dinner...   \n",
       "2586  [Thick, fabric, that, did, n't, wrinkle, and, ...   \n",
       "...                                                 ...   \n",
       "1130  [This, dress, is, way, too, big, for, a, perso...   \n",
       "1294  [The, fit, of, this, dress, did, not, work, fo...   \n",
       "860   [I, ordered, this, dress, for, my, birthday, d...   \n",
       "3507  [I, wore, this, for, a, formal, event, ., The,...   \n",
       "3174  [I, wore, this, dress, to, a, dinner, party, f...   \n",
       "\n",
       "                                                      3  \n",
       "2171  [(This, DT), (dress, NN), (is, VBZ), (stunning...  \n",
       "485   [(Do, VBP), (n't, RB), (rent, VB), (this, DT),...  \n",
       "2174  [(It, PRP), (was, VBD), (baggy, VBN), (around,...  \n",
       "3387  [(I, PRP), (wore, VBP), (this, DT), (dress, NN...  \n",
       "2586  [(Thick, NNP), (fabric, NN), (that, WDT), (did...  \n",
       "...                                                 ...  \n",
       "1130  [(This, DT), (dress, NN), (is, VBZ), (way, NN)...  \n",
       "1294  [(The, DT), (fit, NN), (of, IN), (this, DT), (...  \n",
       "860   [(I, PRP), (ordered, VBD), (this, DT), (dress,...  \n",
       "3507  [(I, PRP), (wore, VBP), (this, DT), (for, IN),...  \n",
       "3174  [(I, PRP), (wore, VBP), (this, DT), (dress, NN...  \n",
       "\n",
       "[2996 rows x 4 columns]"
      ]
     },
     "execution_count": 30,
     "metadata": {},
     "output_type": "execute_result"
    }
   ],
   "source": [
    "train"
   ]
  },
  {
   "cell_type": "code",
   "execution_count": 31,
   "id": "26c5c524-f3d1-4476-88ea-69e673dbb161",
   "metadata": {},
   "outputs": [],
   "source": [
    "# negation via looking at PoS: negate all adjectives/verbs from a not/n't to the next stopword/punctuation mark\n",
    "# also do lower case\n",
    "def negate(pos_arr):\n",
    "    neg_pos_arr = []\n",
    "    negating = False\n",
    "    for word in pos_arr:\n",
    "        w = word[0].lower()\n",
    "        if (w == 'not' or w == \"n't\"):\n",
    "            negating = True\n",
    "            neg_pos_arr.append((\"POS\", w, word[1]))\n",
    "            continue\n",
    "        elif (word[1] == '.' or word[1] == ':' or word[1] == 'IN' or word[1] == 'CC'):\n",
    "            negating = False\n",
    "            neg_pos_arr.append((\"POS\", w, word[1]))\n",
    "            continue\n",
    "        \n",
    "        if negating and (word[1].startswith(\"VB\") or word[1].startswith(\"JJ\")):\n",
    "            neg_pos_arr.append((\"NEG\", w, word[1]))\n",
    "        else:\n",
    "            neg_pos_arr.append((\"POS\", w, word[1]))\n",
    "    \n",
    "    return neg_pos_arr\n",
    "        \n",
    "train[4] = train[3].apply(negate)\n",
    "val[4] = val[3].apply(negate)"
   ]
  },
  {
   "cell_type": "code",
   "execution_count": 32,
   "id": "229ab609-b041-41ec-af64-454788e7df53",
   "metadata": {},
   "outputs": [
    {
     "data": {
      "text/plain": [
       "2171    [(POS, this, DT), (POS, dress, NN), (POS, is, ...\n",
       "485     [(POS, do, VBP), (POS, n't, RB), (NEG, rent, V...\n",
       "2174    [(POS, it, PRP), (POS, was, VBD), (POS, baggy,...\n",
       "3387    [(POS, i, PRP), (POS, wore, VBP), (POS, this, ...\n",
       "2586    [(POS, thick, NNP), (POS, fabric, NN), (POS, t...\n",
       "                              ...                        \n",
       "1130    [(POS, this, DT), (POS, dress, NN), (POS, is, ...\n",
       "1294    [(POS, the, DT), (POS, fit, NN), (POS, of, IN)...\n",
       "860     [(POS, i, PRP), (POS, ordered, VBD), (POS, thi...\n",
       "3507    [(POS, i, PRP), (POS, wore, VBP), (POS, this, ...\n",
       "3174    [(POS, i, PRP), (POS, wore, VBP), (POS, this, ...\n",
       "Name: 4, Length: 2996, dtype: object"
      ]
     },
     "execution_count": 32,
     "metadata": {},
     "output_type": "execute_result"
    }
   ],
   "source": [
    "train[4]"
   ]
  },
  {
   "cell_type": "code",
   "execution_count": 33,
   "id": "12664da9-8500-4389-b30e-0884bb011458",
   "metadata": {},
   "outputs": [],
   "source": [
    "# stopword removal\n",
    "# we should also remove irrelevant parts of speech (DT, PRP, etc)\n",
    "from nltk.corpus import stopwords \n",
    "\n",
    "sw = set(stopwords.words('english'))\n",
    "\n",
    "def stopword_removal(pos_arr):\n",
    "    word_arr = []\n",
    "    for word in pos_arr:\n",
    "        if word[1] not in sw:\n",
    "            word_arr.append(word)\n",
    "    return word_arr\n",
    "\n",
    "train[5] = train[4].apply(stopword_removal)\n",
    "val[5] = val[4].apply(stopword_removal)"
   ]
  },
  {
   "cell_type": "code",
   "execution_count": 34,
   "id": "e4830585-6430-469d-883a-f3bd8bb0e1a2",
   "metadata": {},
   "outputs": [
    {
     "data": {
      "text/plain": [
       "2171    [(POS, dress, NN), (POS, stunning, VBG), (POS,...\n",
       "485     [(POS, n't, RB), (NEG, rent, VB), (POS, 're, V...\n",
       "2174    [(POS, baggy, VBN), (POS, around, IN), (POS, w...\n",
       "3387    [(POS, wore, VBP), (POS, dress, NN), (POS, spe...\n",
       "2586    [(POS, thick, NNP), (POS, fabric, NN), (POS, n...\n",
       "                              ...                        \n",
       "1130    [(POS, dress, NN), (POS, way, NN), (POS, big, ...\n",
       "1294    [(POS, fit, NN), (POS, dress, NN), (POS, work,...\n",
       "860     [(POS, ordered, VBD), (POS, dress, NN), (POS, ...\n",
       "3507    [(POS, wore, VBP), (POS, formal, JJ), (POS, ev...\n",
       "3174    [(POS, wore, VBP), (POS, dress, NN), (POS, din...\n",
       "Name: 5, Length: 2996, dtype: object"
      ]
     },
     "execution_count": 34,
     "metadata": {},
     "output_type": "execute_result"
    }
   ],
   "source": [
    "train[5]"
   ]
  },
  {
   "cell_type": "code",
   "execution_count": 35,
   "id": "c3b2cd0e-96a1-4cdb-a8a7-2b534df2d012",
   "metadata": {},
   "outputs": [],
   "source": [
    "# lemmatization\n",
    "from nltk.stem import WordNetLemmatizer\n",
    "\n",
    "wnl = WordNetLemmatizer()\n",
    "\n",
    "def lemmatize(pos_arr):\n",
    "    \n",
    "    # POS tag conversion\n",
    "    pos_tag_map = {\n",
    "        'J': 'a', # adjective\n",
    "        'N': 'n', # noun\n",
    "        'V': 'v', # verb\n",
    "        'R': 'r'  # adverb\n",
    "    }\n",
    "    lemmatized_list = []\n",
    "    for word in pos_arr:\n",
    "        if word[2][0] in pos_tag_map:\n",
    "            lemmatized_list.append((word[0], wnl.lemmatize(word[1], pos=pos_tag_map[word[2][0]]), word[2]))\n",
    "        else:\n",
    "            lemmatized_list.append(word)\n",
    "    return lemmatized_list\n",
    "\n",
    "train[6] = train[5].apply(lemmatize)\n",
    "val[6] = val[5].apply(lemmatize)"
   ]
  },
  {
   "cell_type": "code",
   "execution_count": 36,
   "id": "e623ae2c-d7a0-4efa-9160-ff3b5597d773",
   "metadata": {},
   "outputs": [
    {
     "data": {
      "text/plain": [
       "[('POS', 'dress', 'NN'),\n",
       " ('POS', 'fit', 'JJ'),\n",
       " ('POS', 'nicely', 'RB'),\n",
       " ('POS', '.', '.'),\n",
       " ('POS', 'comfortable', 'JJ'),\n",
       " ('POS', 'easy', 'JJ'),\n",
       " ('POS', 'dance', 'VB'),\n",
       " ('POS', '.', '.'),\n",
       " ('POS', \"'m\", 'VBP'),\n",
       " ('POS', '5', 'CD'),\n",
       " ('POS', \"'\", 'POS'),\n",
       " ('POS', '9', 'CD'),\n",
       " ('POS', \"''\", \"''\"),\n",
       " ('POS', ',', ','),\n",
       " ('POS', 'dress', 'NN'),\n",
       " ('POS', 'certainly', 'RB'),\n",
       " ('POS', 'quite', 'RB'),\n",
       " ('POS', 'short', 'JJ'),\n",
       " ('POS', '.', '.')]"
      ]
     },
     "execution_count": 36,
     "metadata": {},
     "output_type": "execute_result"
    }
   ],
   "source": [
    "train[6][3740]"
   ]
  },
  {
   "cell_type": "code",
   "execution_count": 37,
   "id": "7667dad2-953c-4c7e-813e-a9a5b758f1b8",
   "metadata": {},
   "outputs": [],
   "source": [
    "# bigram/trigram extraction\n",
    "\n",
    "import re\n",
    "\n",
    "def create_ngram_extractor(ngram_pos_pattern_maps):\n",
    "    \n",
    "    def extract_ngrams(pos_arr):\n",
    "        ngrams = []\n",
    "        \n",
    "        for pattern in ngram_pos_pattern_maps:\n",
    "            for i in range(len(pos_arr)-len(pattern)):\n",
    "                fit = True\n",
    "                toks = []\n",
    "                for j in range(len(pattern)):\n",
    "                    if not pattern[j].match(pos_arr[i+j][2]):\n",
    "                        fit = False\n",
    "                        break\n",
    "                    else:\n",
    "                        toks.append(pos_arr[i+j][1])\n",
    "                if fit:\n",
    "                    ngrams.append((\"POS\", \"-\".join(toks) ,f\"{len(pattern)}GRAM\"))\n",
    "        \n",
    "        return pos_arr + ngrams\n",
    "        \n",
    "    return extract_ngrams\n",
    "\n",
    "# just an example\n",
    "ngram_conf = [\n",
    "    [re.compile(r\"NNP\"), re.compile(r\"NNP\")],\n",
    "#     [re.compile(r\"VBP\"), re.compile(r\"P\")],\n",
    "    [re.compile(r\"JJ*\"), re.compile(r\"NN*\")],\n",
    "    [re.compile(r\"VB*\"), re.compile(r\"JJ*\")]\n",
    "]\n",
    "\n",
    "train[7] = train[6].apply(create_ngram_extractor(ngram_conf))\n",
    "val[7] = val[6].apply(create_ngram_extractor(ngram_conf))"
   ]
  },
  {
   "cell_type": "code",
   "execution_count": 38,
   "id": "8ce026e0-eefd-45fa-9801-eaa6ad9f353a",
   "metadata": {},
   "outputs": [
    {
     "data": {
      "text/plain": [
       "[('POS', 'cut', 'NN'),\n",
       " ('POS', 'tt', 'NNP'),\n",
       " ('POS', '-', ':'),\n",
       " ('POS', 'since', 'IN'),\n",
       " ('POS', 'part', 'NNS'),\n",
       " ('POS', 'hemline', 'NN'),\n",
       " ('POS', 'short', 'JJR'),\n",
       " ('POS', ',', ','),\n",
       " ('POS', 'opt', 'VBD'),\n",
       " ('POS', 'wear', 'VB'),\n",
       " ('POS', 'flat', 'NNS'),\n",
       " ('POS', '.', '.')]"
      ]
     },
     "execution_count": 38,
     "metadata": {},
     "output_type": "execute_result"
    }
   ],
   "source": [
    "train[7][3744]"
   ]
  },
  {
   "cell_type": "code",
   "execution_count": 40,
   "id": "85c7fd51-b507-4aa9-bb95-a2932ad3ef70",
   "metadata": {},
   "outputs": [],
   "source": [
    "# concatenate to final string features\n",
    "def create_str_features(pos_tokens):\n",
    "    features = []\n",
    "    for tok in pos_tokens:\n",
    "        features.append(f\"{tok[0]}_{tok[1]}_{tok[2]}\")\n",
    "    return features\n",
    "\n",
    "train[8] = train[7].apply(create_str_features)\n",
    "val[8] = val[7].apply(create_str_features)"
   ]
  },
  {
   "cell_type": "code",
   "execution_count": 41,
   "id": "6c892d2a-082c-4312-927d-1a8cf3dd1855",
   "metadata": {},
   "outputs": [
    {
     "data": {
      "text/plain": [
       "2171    [POS_dress_NN, POS_stun_VBG, POS_._., POS_fit_...\n",
       "485     [POS_n't_RB, NEG_rent_VB, POS_'re_VBP, POS_act...\n",
       "2174    [POS_baggy_VBN, POS_around_IN, POS_waist_NN, P...\n",
       "3387    [POS_wear_VBP, POS_dress_NN, POS_special_JJ, P...\n",
       "2586    [POS_thick_NNP, POS_fabric_NN, POS_n't_RB, NEG...\n",
       "                              ...                        \n",
       "1130    [POS_dress_NN, POS_way_NN, POS_big_JJ, POS_per...\n",
       "1294    [POS_fit_NN, POS_dress_NN, POS_work_NN, POS_._...\n",
       "860     [POS_order_VBD, POS_dress_NN, POS_birthday_NN,...\n",
       "3507    [POS_wear_VBP, POS_formal_JJ, POS_event_NN, PO...\n",
       "3174    [POS_wear_VBP, POS_dress_NN, POS_dinner_NN, PO...\n",
       "Name: 8, Length: 2996, dtype: object"
      ]
     },
     "execution_count": 41,
     "metadata": {},
     "output_type": "execute_result"
    }
   ],
   "source": [
    "train[8]"
   ]
  },
  {
   "cell_type": "code",
   "execution_count": 42,
   "id": "aa2afcc1-026b-4779-bd08-65ae1b1ff99e",
   "metadata": {},
   "outputs": [
    {
     "data": {
      "text/plain": [
       "<2996x15373 sparse matrix of type '<class 'numpy.float64'>'\n",
       "\twith 96163 stored elements in Compressed Sparse Row format>"
      ]
     },
     "execution_count": 42,
     "metadata": {},
     "output_type": "execute_result"
    }
   ],
   "source": [
    "# tf-idf vectorization of final features\n",
    "from sklearn.feature_extraction.text import TfidfVectorizer\n",
    "\n",
    "def dummy_fun(doc):\n",
    "    return doc\n",
    "\n",
    "tfidf = TfidfVectorizer(\n",
    "    analyzer='word',\n",
    "    tokenizer=dummy_fun,\n",
    "    preprocessor=dummy_fun,\n",
    "    token_pattern=None\n",
    ")\n",
    "\n",
    "train_features = tfidf.fit_transform(list(train[8]))\n",
    "val_features = tfidf.transform(list(val[8]))\n",
    "train_features"
   ]
  },
  {
   "cell_type": "code",
   "execution_count": 43,
   "id": "67139ca6-e147-43a8-830d-a3f4baa3bd17",
   "metadata": {},
   "outputs": [
    {
     "data": {
      "text/plain": [
       "array([[ 0.31688847,  0.03469963,  0.18426855, ..., -0.00445341,\n",
       "        -0.00665584, -0.01520097],\n",
       "       [ 0.25843095, -0.04357888,  0.12266353, ..., -0.00808807,\n",
       "        -0.01172788,  0.02377829],\n",
       "       [ 0.15688617, -0.01581716,  0.0126601 , ...,  0.008587  ,\n",
       "        -0.00593694,  0.01071245],\n",
       "       ...,\n",
       "       [ 0.21634699, -0.035104  , -0.00218621, ...,  0.0299359 ,\n",
       "        -0.00217068, -0.00460571],\n",
       "       [ 0.25186182, -0.02301809,  0.02889474, ...,  0.00570362,\n",
       "         0.00603833, -0.02667419],\n",
       "       [ 0.17588367, -0.00742475, -0.00544163, ..., -0.00914359,\n",
       "        -0.00293264,  0.01062798]])"
      ]
     },
     "execution_count": 43,
     "metadata": {},
     "output_type": "execute_result"
    }
   ],
   "source": [
    "# TODO plot a tSNE embedding and see how separable features are. Add more processing steps if needed.\n",
    "from sklearn.decomposition import TruncatedSVD\n",
    "\n",
    "svd = TruncatedSVD(n_components=1000)\n",
    "\n",
    "decomp = svd.fit_transform(train_features)\n",
    "decomp"
   ]
  },
  {
   "cell_type": "code",
   "execution_count": 44,
   "id": "ec78e077-80ad-40ce-9f6b-b87525fc7c98",
   "metadata": {},
   "outputs": [
    {
     "name": "stderr",
     "output_type": "stream",
     "text": [
      "/Users/Sensei/.pyenv/versions/3.9.0/lib/python3.9/site-packages/sklearn/manifold/_t_sne.py:780: FutureWarning: The default initialization in TSNE will change from 'random' to 'pca' in 1.2.\n",
      "  warnings.warn(\n",
      "/Users/Sensei/.pyenv/versions/3.9.0/lib/python3.9/site-packages/sklearn/manifold/_t_sne.py:790: FutureWarning: The default learning rate in TSNE will change from 200.0 to 'auto' in 1.2.\n",
      "  warnings.warn(\n"
     ]
    }
   ],
   "source": [
    "from sklearn.manifold import TSNE\n",
    "tsne = TSNE(n_components = 2, perplexity=50, n_iter=2000, early_exaggeration=12)\n",
    "tsne_res = tsne.fit_transform(decomp)"
   ]
  },
  {
   "cell_type": "code",
   "execution_count": 45,
   "id": "562af6b4-c7ab-430a-a2c5-06003bf2ca13",
   "metadata": {},
   "outputs": [
    {
     "data": {
      "text/plain": [
       "<AxesSubplot:>"
      ]
     },
     "execution_count": 45,
     "metadata": {},
     "output_type": "execute_result"
    },
    {
     "data": {
      "image/png": "[encoded data removed]",
      "text/plain": [
       "<Figure size 432x288 with 1 Axes>"
      ]
     },
     "metadata": {
      "needs_background": "light"
     },
     "output_type": "display_data"
    }
   ],
   "source": [
    "import seaborn as sns\n",
    "sns.scatterplot(x = tsne_res[:,0], y = tsne_res[:,1], hue=train[1], palette = sns.hls_palette(5), legend = 'full')"
   ]
  },
  {
   "cell_type": "markdown",
   "id": "b1e2ad13-9688-40e1-a229-eb8927d9a891",
   "metadata": {},
   "source": [
    "## Models"
   ]
  },
  {
   "cell_type": "code",
   "execution_count": 46,
   "id": "2b36a67e-6a05-4334-b409-6e16733cf78d",
   "metadata": {},
   "outputs": [],
   "source": [
    "train_decomp = svd.fit_transform(train_features)\n",
    "val_decomp = svd.transform(val_features)"
   ]
  },
  {
   "cell_type": "markdown",
   "id": "533e8a7e-6bc9-4c7e-86b3-70f08234f2f4",
   "metadata": {},
   "source": [
    "### SVM"
   ]
  },
  {
   "cell_type": "code",
   "execution_count": 47,
   "id": "3b3f0431-29e9-4879-809f-9b063f7a0e42",
   "metadata": {},
   "outputs": [
    {
     "data": {
      "text/plain": [
       "SVC()"
      ]
     },
     "execution_count": 47,
     "metadata": {},
     "output_type": "execute_result"
    }
   ],
   "source": [
    "from sklearn.svm import SVC\n",
    "svc = SVC()\n",
    "svc.fit(train_decomp, train[1])"
   ]
  },
  {
   "cell_type": "code",
   "execution_count": 48,
   "id": "1a430678-d5e9-48b9-a026-b8c5320bd9f3",
   "metadata": {},
   "outputs": [
    {
     "data": {
      "text/plain": [
       "0.9669559412550067"
      ]
     },
     "execution_count": 48,
     "metadata": {},
     "output_type": "execute_result"
    }
   ],
   "source": [
    "from sklearn.metrics import accuracy_score\n",
    "accuracy_score(svc.predict(train_decomp), train[1])"
   ]
  },
  {
   "cell_type": "markdown",
   "id": "1dda4fa5-6cc1-4e30-af01-19c053cbbbc0",
   "metadata": {},
   "source": [
    "Not too bad :)"
   ]
  },
  {
   "cell_type": "code",
   "execution_count": 49,
   "id": "3be43484-c1a1-4466-b6b6-ac7cec1f2708",
   "metadata": {},
   "outputs": [
    {
     "data": {
      "text/plain": [
       "0.411214953271028"
      ]
     },
     "execution_count": 49,
     "metadata": {},
     "output_type": "execute_result"
    }
   ],
   "source": [
    "accuracy_score(svc.predict(val_decomp), val[1])"
   ]
  },
  {
   "cell_type": "markdown",
   "id": "fd58f1fe-6d54-426d-8f29-b08178203132",
   "metadata": {},
   "source": [
    "ok, pretty bad >:( what now?"
   ]
  },
  {
   "cell_type": "markdown",
   "id": "e7344ce1-4018-46ab-aa70-d1fed7fe76c8",
   "metadata": {},
   "source": [
    "### Naive Bhais"
   ]
  },
  {
   "cell_type": "code",
   "execution_count": null,
   "id": "87b2c6f2-6cbc-4091-850d-fd89ddb4d5c7",
   "metadata": {},
   "outputs": [],
   "source": [
    "# TODO"
   ]
  }
 ],
 "metadata": {
  "kernelspec": {
   "display_name": "Python 3",
   "language": "python",
   "name": "python3"
  },
  "language_info": {
   "codemirror_mode": {
    "name": "ipython",
    "version": 3
   },
   "file_extension": ".py",
   "mimetype": "text/x-python",
   "name": "python",
   "nbconvert_exporter": "python",
   "pygments_lexer": "ipython3",
   "version": "3.9.0"
  }
 },
 "nbformat": 4,
 "nbformat_minor": 5
}
